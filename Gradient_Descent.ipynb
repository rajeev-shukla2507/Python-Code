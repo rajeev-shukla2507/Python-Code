{
  "nbformat": 4,
  "nbformat_minor": 0,
  "metadata": {
    "colab": {
      "name": "Gradient Descent.ipynb",
      "version": "0.3.2",
      "provenance": [],
      "toc_visible": true,
      "include_colab_link": true
    },
    "kernelspec": {
      "name": "python3",
      "display_name": "Python 3"
    }
  },
  "cells": [
    {
      "cell_type": "markdown",
      "metadata": {
        "id": "view-in-github",
        "colab_type": "text"
      },
      "source": [
        "<a href=\"https://colab.research.google.com/github/rajeev-shukla2507/Python-Code/blob/master/Gradient_Descent.ipynb\" target=\"_parent\"><img src=\"https://colab.research.google.com/assets/colab-badge.svg\" alt=\"Open In Colab\"/></a>"
      ]
    },
    {
      "metadata": {
        "id": "RYudsZ7M1_1q",
        "colab_type": "text"
      },
      "cell_type": "markdown",
      "source": [
        "# Perceptron"
      ]
    },
    {
      "metadata": {
        "id": "ACNf1X7e2AEj",
        "colab_type": "text"
      },
      "cell_type": "markdown",
      "source": [
        "# Gradient Descent"
      ]
    },
    {
      "metadata": {
        "id": "tLxyehaB-o3-",
        "colab_type": "text"
      },
      "cell_type": "markdown",
      "source": [
        "## Algorithm: \n",
        "\n",
        "`t ← 0;<br>\n",
        "max iterations ← 1000;<br>\n",
        "while t < max iterations do:<br>\n",
        "> w<sub>t+1</sub> ← w<sub>t</sub> − η∇w<sub>t</sub>;<br>\n",
        "> b<sub>t+1</sub> ← b<sub>t</sub> − η∇b<sub>t</sub>;<br>\n",
        "> t ← t + 1;<br>\n",
        "end`"
      ]
    },
    {
      "metadata": {
        "id": "u77CGSVCOfSy",
        "colab_type": "code",
        "colab": {}
      },
      "cell_type": "code",
      "source": [
        "import numpy as np\n",
        "import matplotlib.pyplot as plt"
      ],
      "execution_count": 0,
      "outputs": []
    },
    {
      "metadata": {
        "id": "RSQ-9xW1OJJD",
        "colab_type": "code",
        "colab": {}
      },
      "cell_type": "code",
      "source": [
        "X=[0.5,2.5]\n",
        "Y=[0.2,0.9]"
      ],
      "execution_count": 0,
      "outputs": []
    },
    {
      "metadata": {
        "id": "iXgO9uq9ObZK",
        "colab_type": "code",
        "colab": {}
      },
      "cell_type": "code",
      "source": [
        "def sigmoid(w,b,x):\n",
        "  return(1/(1.0+np.exp(-(w*x+b))))\n",
        "\n",
        "def error(w,b):\n",
        "  err=0.0\n",
        "  for x,y in zip(X,Y):\n",
        "    fx=sigmoid(w,b,x)\n",
        "    err+=0.5*(fx-y)**2\n",
        "  return(err)\n",
        "\n",
        "def grad_b(fx,x,y):\n",
        "  return((fx-y)*fx*(1-fx))\n",
        "\n",
        "def grad_w(fx,x,y):\n",
        "  return((fx-y)*fx*(1-fx)*x)\n",
        "\n",
        "def do_gradient_descent():\n",
        "  w,b,eta,max_epochs=-2,-2,1.0,1000\n",
        "  for i in range(max_epochs):\n",
        "    dw,db=0,0\n",
        "    for x,y in zip(X,Y):\n",
        "      fx=sigmoid(w,b,x)\n",
        "      dw=grad_w(fx,x,y)\n",
        "      db=grad_b(fx,x,y)\n",
        "    w=w-(eta*dw)\n",
        "    b=b-(eta*db)\n",
        "  return(w,b)"
      ],
      "execution_count": 0,
      "outputs": []
    },
    {
      "metadata": {
        "id": "5QAMPUJ9dA7t",
        "colab_type": "code",
        "colab": {}
      },
      "cell_type": "code",
      "source": [
        "w,b=do_gradient_descent()\n",
        "error=error(w,b)"
      ],
      "execution_count": 0,
      "outputs": []
    },
    {
      "metadata": {
        "id": "nMqQwPF4bHxa",
        "colab_type": "code",
        "colab": {
          "base_uri": "https://localhost:8080/",
          "height": 282
        },
        "outputId": "7ceeb406-6871-464f-8149-d02969abe2bb"
      },
      "cell_type": "code",
      "source": [
        "%matplotlib inline\n",
        "x=np.arange(-6,6,0.1)\n",
        "fig=plt.plot(x,sigmoid(w,b,x))\n",
        "plt.scatter(X,Y)\n"
      ],
      "execution_count": 26,
      "outputs": [
        {
          "output_type": "execute_result",
          "data": {
            "text/plain": [
              "<matplotlib.collections.PathCollection at 0x7f61d9e35588>"
            ]
          },
          "metadata": {
            "tags": []
          },
          "execution_count": 26
        },
        {
          "output_type": "display_data",
          "data": {
            "image/png": "[encoded data removed]",
            "text/plain": [
              "<Figure size 432x288 with 1 Axes>"
            ]
          },
          "metadata": {
            "tags": []
          }
        }
      ]
    }
  ]
}